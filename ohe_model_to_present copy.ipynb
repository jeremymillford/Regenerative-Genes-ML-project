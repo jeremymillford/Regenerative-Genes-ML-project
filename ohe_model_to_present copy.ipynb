{
 "cells": [
  {
   "cell_type": "markdown",
   "metadata": {},
   "source": [
    "# Predicting Gene Sequence Regenerative Contributions "
   ]
  },
  {
   "cell_type": "markdown",
   "metadata": {},
   "source": [
    "By: Jaeyoon Jung, Jeremy Milford, Shree Patel, Cynthia Perez\n",
    "\n",
    "This notebook develops a model from gene sequences of the axolotl and zebrafish, model regenerative species. This notebook uses feature engineered data to run gridsearch, PCA, and maps the gene data to amino acid sequences to explore biological implications. "
   ]
  },
  {
   "cell_type": "markdown",
   "metadata": {},
   "source": [
    "### Necessary Imports"
   ]
  },
  {
   "cell_type": "code",
   "execution_count": 1,
   "metadata": {},
   "outputs": [
    {
     "name": "stderr",
     "output_type": "stream",
     "text": [
      "2024-12-09 23:30:06.279280: I tensorflow/core/platform/cpu_feature_guard.cc:210] This TensorFlow binary is optimized to use available CPU instructions in performance-critical operations.\n",
      "To enable the following instructions: SSE4.1 SSE4.2 AVX AVX2 AVX_VNNI FMA, in other operations, rebuild TensorFlow with the appropriate compiler flags.\n"
     ]
    }
   ],
   "source": [
    "# necessary imports\n",
    "\n",
    "import pandas as pd\n",
    "import numpy as np\n",
    "from sklearn.model_selection import train_test_split\n",
    "from sklearn.preprocessing import StandardScaler\n",
    "import os\n",
    "os.environ[\"TF_ENABLE_ONEDNN_OPTS\"] = \"0\"\n",
    "import tensorflow as tf\n",
    "from tensorflow import keras \n",
    "from keras.preprocessing.sequence import pad_sequences\n",
    "from keras.models import Sequential\n",
    "from keras.layers import Dense, Dropout, LSTM, Reshape, Conv1D, MaxPooling1D, Flatten\n",
    "from keras.callbacks import EarlyStopping\n",
    "from sklearn.decomposition import PCA\n",
    "import matplotlib.pyplot as plt\n",
    "from keras.optimizers import Adam\n",
    "from scikeras.wrappers import KerasClassifier\n",
    "from sklearn.model_selection import GridSearchCV\n",
    "from sklearn.metrics import accuracy_score, classification_report\n",
    "from sklearn.metrics import confusion_matrix, classification_report\n",
    "import seaborn as sns\n",
    "from scipy.stats import ttest_ind\n",
    "from onehot import onehote"
   ]
  },
  {
   "cell_type": "code",
   "execution_count": 3,
   "metadata": {},
   "outputs": [
    {
     "name": "stdout",
     "output_type": "stream",
     "text": [
      "Num GPUs Available:  0\n"
     ]
    }
   ],
   "source": [
    "print(\"Num GPUs Available: \", len(tf.config.list_physical_devices('GPU')))\n",
    "tf.config.threading.set_intra_op_parallelism_threads(2)  # Adjust as needed\n",
    "tf.config.threading.set_inter_op_parallelism_threads(2)\n",
    "tf.config.set_visible_devices([], 'GPU')"
   ]
  },
  {
   "cell_type": "code",
   "execution_count": 4,
   "metadata": {},
   "outputs": [
    {
     "data": {
      "text/html": [
       "<div>\n",
       "<style scoped>\n",
       "    .dataframe tbody tr th:only-of-type {\n",
       "        vertical-align: middle;\n",
       "    }\n",
       "\n",
       "    .dataframe tbody tr th {\n",
       "        vertical-align: top;\n",
       "    }\n",
       "\n",
       "    .dataframe thead th {\n",
       "        text-align: right;\n",
       "    }\n",
       "</style>\n",
       "<table border=\"1\" class=\"dataframe\">\n",
       "  <thead>\n",
       "    <tr style=\"text-align: right;\">\n",
       "      <th></th>\n",
       "      <th>gene_name</th>\n",
       "      <th>sequence_length</th>\n",
       "      <th>gc_content</th>\n",
       "      <th>at_gc_ratio</th>\n",
       "      <th>kmer_3_GGG</th>\n",
       "      <th>kmer_3_GGC</th>\n",
       "      <th>kmer_3_GCG</th>\n",
       "      <th>kmer_3_CGG</th>\n",
       "      <th>kmer_3_GCT</th>\n",
       "      <th>kmer_3_CTG</th>\n",
       "      <th>...</th>\n",
       "      <th>kmer_3_TAG</th>\n",
       "      <th>kmer_3_CAN</th>\n",
       "      <th>kmer_3_ANN</th>\n",
       "      <th>kmer_3_NNN</th>\n",
       "      <th>kmer_3_NNT</th>\n",
       "      <th>kmer_3_NTA</th>\n",
       "      <th>organism</th>\n",
       "      <th>chromosome</th>\n",
       "      <th>regen</th>\n",
       "      <th>sequence</th>\n",
       "    </tr>\n",
       "  </thead>\n",
       "  <tbody>\n",
       "    <tr>\n",
       "      <th>0</th>\n",
       "      <td>ADIPOQ</td>\n",
       "      <td>1487</td>\n",
       "      <td>0.465367</td>\n",
       "      <td>1.148844</td>\n",
       "      <td>0.014141</td>\n",
       "      <td>0.016162</td>\n",
       "      <td>0.005387</td>\n",
       "      <td>0.005387</td>\n",
       "      <td>0.013468</td>\n",
       "      <td>0.022896</td>\n",
       "      <td>...</td>\n",
       "      <td>0.008754</td>\n",
       "      <td>0.0</td>\n",
       "      <td>0.0</td>\n",
       "      <td>0.0</td>\n",
       "      <td>0.0</td>\n",
       "      <td>0.0</td>\n",
       "      <td>Rattus norvegicus</td>\n",
       "      <td>2</td>\n",
       "      <td>0</td>\n",
       "      <td>CTCAGGAGACCTGGCGATTTTCTCTTCATTCCTGTCTGTACGAGTG...</td>\n",
       "    </tr>\n",
       "    <tr>\n",
       "      <th>1</th>\n",
       "      <td>AGTR1A</td>\n",
       "      <td>2286</td>\n",
       "      <td>0.463255</td>\n",
       "      <td>1.158640</td>\n",
       "      <td>0.007881</td>\n",
       "      <td>0.018827</td>\n",
       "      <td>0.005692</td>\n",
       "      <td>0.004378</td>\n",
       "      <td>0.022329</td>\n",
       "      <td>0.029335</td>\n",
       "      <td>...</td>\n",
       "      <td>0.007881</td>\n",
       "      <td>0.0</td>\n",
       "      <td>0.0</td>\n",
       "      <td>0.0</td>\n",
       "      <td>0.0</td>\n",
       "      <td>0.0</td>\n",
       "      <td>Rattus norvegicus</td>\n",
       "      <td>2</td>\n",
       "      <td>0</td>\n",
       "      <td>CCGAGCCTGAGGGTTGGAACCTGCAGAGCAGCGACGCCCCCTAGGC...</td>\n",
       "    </tr>\n",
       "    <tr>\n",
       "      <th>2</th>\n",
       "      <td>AGTR2</td>\n",
       "      <td>2861</td>\n",
       "      <td>0.386928</td>\n",
       "      <td>1.584463</td>\n",
       "      <td>0.008395</td>\n",
       "      <td>0.010843</td>\n",
       "      <td>0.001399</td>\n",
       "      <td>0.001749</td>\n",
       "      <td>0.015390</td>\n",
       "      <td>0.023435</td>\n",
       "      <td>...</td>\n",
       "      <td>0.011193</td>\n",
       "      <td>0.0</td>\n",
       "      <td>0.0</td>\n",
       "      <td>0.0</td>\n",
       "      <td>0.0</td>\n",
       "      <td>0.0</td>\n",
       "      <td>Rattus norvegicus</td>\n",
       "      <td>2</td>\n",
       "      <td>0</td>\n",
       "      <td>CCAGAGTCTGGGGATGGAGCGAGCACAGAATTGAAAGCTTTCTTCA...</td>\n",
       "    </tr>\n",
       "    <tr>\n",
       "      <th>3</th>\n",
       "      <td>AMTN</td>\n",
       "      <td>1032</td>\n",
       "      <td>0.465116</td>\n",
       "      <td>1.150000</td>\n",
       "      <td>0.011650</td>\n",
       "      <td>0.013592</td>\n",
       "      <td>0.001942</td>\n",
       "      <td>0.001942</td>\n",
       "      <td>0.014563</td>\n",
       "      <td>0.025243</td>\n",
       "      <td>...</td>\n",
       "      <td>0.005825</td>\n",
       "      <td>0.0</td>\n",
       "      <td>0.0</td>\n",
       "      <td>0.0</td>\n",
       "      <td>0.0</td>\n",
       "      <td>0.0</td>\n",
       "      <td>Rattus norvegicus</td>\n",
       "      <td>X2</td>\n",
       "      <td>1</td>\n",
       "      <td>AAAAGATAAATTTTGCACCAGAGTAAAGTGGAGAAGTCATCTGGAT...</td>\n",
       "    </tr>\n",
       "    <tr>\n",
       "      <th>4</th>\n",
       "      <td>ARHGDIA</td>\n",
       "      <td>89866</td>\n",
       "      <td>0.470211</td>\n",
       "      <td>1.126704</td>\n",
       "      <td>0.016681</td>\n",
       "      <td>0.013810</td>\n",
       "      <td>0.006310</td>\n",
       "      <td>0.007344</td>\n",
       "      <td>0.015112</td>\n",
       "      <td>0.021421</td>\n",
       "      <td>...</td>\n",
       "      <td>0.011440</td>\n",
       "      <td>0.0</td>\n",
       "      <td>0.0</td>\n",
       "      <td>0.0</td>\n",
       "      <td>0.0</td>\n",
       "      <td>0.0</td>\n",
       "      <td>Ambystoma mexicanum</td>\n",
       "      <td>3q</td>\n",
       "      <td>0</td>\n",
       "      <td>TTTCTAGAGCTCTCTTGTGGGACGGGAACTAGATAGACCGGAACTA...</td>\n",
       "    </tr>\n",
       "  </tbody>\n",
       "</table>\n",
       "<p>5 rows × 77 columns</p>\n",
       "</div>"
      ],
      "text/plain": [
       "  gene_name  sequence_length  gc_content  at_gc_ratio  kmer_3_GGG  kmer_3_GGC  \\\n",
       "0    ADIPOQ             1487    0.465367     1.148844    0.014141    0.016162   \n",
       "1    AGTR1A             2286    0.463255     1.158640    0.007881    0.018827   \n",
       "2     AGTR2             2861    0.386928     1.584463    0.008395    0.010843   \n",
       "3      AMTN             1032    0.465116     1.150000    0.011650    0.013592   \n",
       "4   ARHGDIA            89866    0.470211     1.126704    0.016681    0.013810   \n",
       "\n",
       "   kmer_3_GCG  kmer_3_CGG  kmer_3_GCT  kmer_3_CTG  ...  kmer_3_TAG  \\\n",
       "0    0.005387    0.005387    0.013468    0.022896  ...    0.008754   \n",
       "1    0.005692    0.004378    0.022329    0.029335  ...    0.007881   \n",
       "2    0.001399    0.001749    0.015390    0.023435  ...    0.011193   \n",
       "3    0.001942    0.001942    0.014563    0.025243  ...    0.005825   \n",
       "4    0.006310    0.007344    0.015112    0.021421  ...    0.011440   \n",
       "\n",
       "   kmer_3_CAN  kmer_3_ANN  kmer_3_NNN  kmer_3_NNT  kmer_3_NTA  \\\n",
       "0         0.0         0.0         0.0         0.0         0.0   \n",
       "1         0.0         0.0         0.0         0.0         0.0   \n",
       "2         0.0         0.0         0.0         0.0         0.0   \n",
       "3         0.0         0.0         0.0         0.0         0.0   \n",
       "4         0.0         0.0         0.0         0.0         0.0   \n",
       "\n",
       "              organism  chromosome  regen  \\\n",
       "0    Rattus norvegicus           2      0   \n",
       "1    Rattus norvegicus           2      0   \n",
       "2    Rattus norvegicus           2      0   \n",
       "3    Rattus norvegicus          X2      1   \n",
       "4  Ambystoma mexicanum          3q      0   \n",
       "\n",
       "                                            sequence  \n",
       "0  CTCAGGAGACCTGGCGATTTTCTCTTCATTCCTGTCTGTACGAGTG...  \n",
       "1  CCGAGCCTGAGGGTTGGAACCTGCAGAGCAGCGACGCCCCCTAGGC...  \n",
       "2  CCAGAGTCTGGGGATGGAGCGAGCACAGAATTGAAAGCTTTCTTCA...  \n",
       "3  AAAAGATAAATTTTGCACCAGAGTAAAGTGGAGAAGTCATCTGGAT...  \n",
       "4  TTTCTAGAGCTCTCTTGTGGGACGGGAACTAGATAGACCGGAACTA...  \n",
       "\n",
       "[5 rows x 77 columns]"
      ]
     },
     "execution_count": 4,
     "metadata": {},
     "output_type": "execute_result"
    }
   ],
   "source": [
    "features_df = pd.read_csv(\"gene_sequences.csv\")\n",
    "features_df.head()"
   ]
  },
  {
   "cell_type": "markdown",
   "metadata": {},
   "source": [
    "### Test, Train Split"
   ]
  },
  {
   "cell_type": "code",
   "execution_count": 5,
   "metadata": {},
   "outputs": [
    {
     "name": "stdout",
     "output_type": "stream",
     "text": [
      "Index(['sequence_length', 'gc_content', 'at_gc_ratio', 'kmer_3_GGG',\n",
      "       'kmer_3_GGC', 'kmer_3_GCG', 'kmer_3_CGG', 'kmer_3_GCT', 'kmer_3_CTG',\n",
      "       'kmer_3_TGC', 'kmer_3_GCC', 'kmer_3_CCG', 'kmer_3_CGC', 'kmer_3_CCA',\n",
      "       'kmer_3_CAG', 'kmer_3_AGC', 'kmer_3_CCC', 'kmer_3_CTA', 'kmer_3_TAA',\n",
      "       'kmer_3_AAG', 'kmer_3_AGG', 'kmer_3_CTC', 'kmer_3_TCG', 'kmer_3_GGA',\n",
      "       'kmer_3_GAG', 'kmer_3_AGA', 'kmer_3_TCT', 'kmer_3_TGT', 'kmer_3_GTT',\n",
      "       'kmer_3_TTT', 'kmer_3_TTC', 'kmer_3_TCC', 'kmer_3_AGT', 'kmer_3_GTC',\n",
      "       'kmer_3_GTG', 'kmer_3_TGG', 'kmer_3_CTT', 'kmer_3_TTA', 'kmer_3_AAA',\n",
      "       'kmer_3_CAC', 'kmer_3_ACT', 'kmer_3_CGT', 'kmer_3_CAA', 'kmer_3_AAT',\n",
      "       'kmer_3_ATG', 'kmer_3_TAT', 'kmer_3_TGA', 'kmer_3_GAC', 'kmer_3_ACA',\n",
      "       'kmer_3_TCA', 'kmer_3_CCT', 'kmer_3_ACG', 'kmer_3_GAT', 'kmer_3_ATC',\n",
      "       'kmer_3_CGA', 'kmer_3_CAT', 'kmer_3_TAC', 'kmer_3_AAC', 'kmer_3_GCA',\n",
      "       'kmer_3_GAA', 'kmer_3_ACC', 'kmer_3_GGT', 'kmer_3_ATT', 'kmer_3_TTG',\n",
      "       'kmer_3_ATA', 'kmer_3_GTA', 'kmer_3_TAG', 'kmer_3_CAN', 'kmer_3_ANN',\n",
      "       'kmer_3_NNN', 'kmer_3_NNT', 'kmer_3_NTA', 'organism', 'chromosome',\n",
      "       'regen', 'sequence'],\n",
      "      dtype='object')\n"
     ]
    },
    {
     "data": {
      "text/html": [
       "<div>\n",
       "<style scoped>\n",
       "    .dataframe tbody tr th:only-of-type {\n",
       "        vertical-align: middle;\n",
       "    }\n",
       "\n",
       "    .dataframe tbody tr th {\n",
       "        vertical-align: top;\n",
       "    }\n",
       "\n",
       "    .dataframe thead th {\n",
       "        text-align: right;\n",
       "    }\n",
       "</style>\n",
       "<table border=\"1\" class=\"dataframe\">\n",
       "  <thead>\n",
       "    <tr style=\"text-align: right;\">\n",
       "      <th></th>\n",
       "      <th>organism</th>\n",
       "      <th>chromosome</th>\n",
       "      <th>regen</th>\n",
       "      <th>sequence</th>\n",
       "    </tr>\n",
       "  </thead>\n",
       "  <tbody>\n",
       "    <tr>\n",
       "      <th>0</th>\n",
       "      <td>Rattus norvegicus</td>\n",
       "      <td>2</td>\n",
       "      <td>0</td>\n",
       "      <td>CTCAGGAGACCTGGCGATTTTCTCTTCATTCCTGTCTGTACGAGTG...</td>\n",
       "    </tr>\n",
       "    <tr>\n",
       "      <th>1</th>\n",
       "      <td>Rattus norvegicus</td>\n",
       "      <td>2</td>\n",
       "      <td>0</td>\n",
       "      <td>CCGAGCCTGAGGGTTGGAACCTGCAGAGCAGCGACGCCCCCTAGGC...</td>\n",
       "    </tr>\n",
       "    <tr>\n",
       "      <th>2</th>\n",
       "      <td>Rattus norvegicus</td>\n",
       "      <td>2</td>\n",
       "      <td>0</td>\n",
       "      <td>CCAGAGTCTGGGGATGGAGCGAGCACAGAATTGAAAGCTTTCTTCA...</td>\n",
       "    </tr>\n",
       "    <tr>\n",
       "      <th>3</th>\n",
       "      <td>Rattus norvegicus</td>\n",
       "      <td>X2</td>\n",
       "      <td>1</td>\n",
       "      <td>AAAAGATAAATTTTGCACCAGAGTAAAGTGGAGAAGTCATCTGGAT...</td>\n",
       "    </tr>\n",
       "    <tr>\n",
       "      <th>4</th>\n",
       "      <td>Ambystoma mexicanum</td>\n",
       "      <td>3q</td>\n",
       "      <td>0</td>\n",
       "      <td>TTTCTAGAGCTCTCTTGTGGGACGGGAACTAGATAGACCGGAACTA...</td>\n",
       "    </tr>\n",
       "  </tbody>\n",
       "</table>\n",
       "</div>"
      ],
      "text/plain": [
       "              organism chromosome  regen  \\\n",
       "0    Rattus norvegicus          2      0   \n",
       "1    Rattus norvegicus          2      0   \n",
       "2    Rattus norvegicus          2      0   \n",
       "3    Rattus norvegicus         X2      1   \n",
       "4  Ambystoma mexicanum         3q      0   \n",
       "\n",
       "                                            sequence  \n",
       "0  CTCAGGAGACCTGGCGATTTTCTCTTCATTCCTGTCTGTACGAGTG...  \n",
       "1  CCGAGCCTGAGGGTTGGAACCTGCAGAGCAGCGACGCCCCCTAGGC...  \n",
       "2  CCAGAGTCTGGGGATGGAGCGAGCACAGAATTGAAAGCTTTCTTCA...  \n",
       "3  AAAAGATAAATTTTGCACCAGAGTAAAGTGGAGAAGTCATCTGGAT...  \n",
       "4  TTTCTAGAGCTCTCTTGTGGGACGGGAACTAGATAGACCGGAACTA...  "
      ]
     },
     "execution_count": 5,
     "metadata": {},
     "output_type": "execute_result"
    }
   ],
   "source": [
    "# Drop gene_name and separate features and target \n",
    "X = features_df.drop(columns=['gene_name'])\n",
    "y = (features_df['regen']).astype(int)  \n",
    "y = y.to_numpy()\n",
    "\n",
    "# Choose only numeric features for modeling\n",
    "X_col = X.columns\n",
    "print(X_col)\n",
    "X_numeric_features = [\"sequence_length\", \"gc_content\", \"at_gc_ratio\", 'kmer_3_GGG',\n",
    "       'kmer_3_GGC', 'kmer_3_GCG', 'kmer_3_CGG', 'kmer_3_GCT', 'kmer_3_CTG',\n",
    "       'kmer_3_TGC', 'kmer_3_GCC', 'kmer_3_CCG', 'kmer_3_CGC', 'kmer_3_CCA',\n",
    "       'kmer_3_CAG', 'kmer_3_AGC', 'kmer_3_CCC', 'kmer_3_CTA', 'kmer_3_TAA',\n",
    "       'kmer_3_AAG', 'kmer_3_AGG', 'kmer_3_CTC', 'kmer_3_TCG', 'kmer_3_GGA',\n",
    "       'kmer_3_GAG', 'kmer_3_AGA', 'kmer_3_TCT', 'kmer_3_TGT', 'kmer_3_GTT',\n",
    "       'kmer_3_TTT', 'kmer_3_TTC', 'kmer_3_TCC', 'kmer_3_AGT', 'kmer_3_GTC',\n",
    "       'kmer_3_GTG', 'kmer_3_TGG', 'kmer_3_CTT', 'kmer_3_TTA', 'kmer_3_AAA',\n",
    "       'kmer_3_CAC', 'kmer_3_ACT', 'kmer_3_CGT', 'kmer_3_CAA', 'kmer_3_AAT',\n",
    "       'kmer_3_ATG', 'kmer_3_TAT', 'kmer_3_TGA', 'kmer_3_GAC', 'kmer_3_ACA',\n",
    "       'kmer_3_TCA', 'kmer_3_CCT', 'kmer_3_ACG', 'kmer_3_GAT', 'kmer_3_ATC',\n",
    "       'kmer_3_CGA', 'kmer_3_CAT', 'kmer_3_TAC', 'kmer_3_AAC', 'kmer_3_GCA',\n",
    "       'kmer_3_GAA', 'kmer_3_ACC', 'kmer_3_GGT', 'kmer_3_ATT', 'kmer_3_TTG',\n",
    "       'kmer_3_ATA', 'kmer_3_GTA', 'kmer_3_TAG', 'kmer_3_CAN', 'kmer_3_ANN',\n",
    "       'kmer_3_NNN', 'kmer_3_NNT', 'kmer_3_NTA']\n",
    "\n",
    "X = X.drop(columns = X_numeric_features)\n",
    "X.head()\n"
   ]
  },
  {
   "cell_type": "code",
   "execution_count": 6,
   "metadata": {},
   "outputs": [
    {
     "name": "stdout",
     "output_type": "stream",
     "text": [
      "Warning: Invalid nucleotide 'N' encountered. Skipping.\n"
     ]
    }
   ],
   "source": [
    "# one hot encode each sequence and store in a NumPy array\n",
    "sequences_ohe = []\n",
    "for seq in X['sequence']:\n",
    "    output = onehote(seq)\n",
    "    if output is None:\n",
    "        continue\n",
    "    else:\n",
    "        sequences_ohe.append(output)\n",
    "\n",
    "# Pad sequences so they have the same length, but without truncation.\n",
    "sequences_ohe_padded = pad_sequences(sequences_ohe, padding='post', dtype='float32', value=0)"
   ]
  },
  {
   "cell_type": "markdown",
   "metadata": {},
   "source": [
    "This train, test split has considered only the numerical features of the data (i.e. no information on organism or chromosome location of the gene)"
   ]
  },
  {
   "cell_type": "markdown",
   "metadata": {},
   "source": [
    "### CNN on Feature DataFrame"
   ]
  },
  {
   "cell_type": "code",
   "execution_count": 7,
   "metadata": {},
   "outputs": [
    {
     "name": "stderr",
     "output_type": "stream",
     "text": [
      "2024-12-09 23:31:10.579631: W external/local_tsl/tsl/framework/cpu_allocator_impl.cc:83] Allocation of 4360711712 exceeds 10% of free system memory.\n"
     ]
    },
    {
     "name": "stdout",
     "output_type": "stream",
     "text": [
      "Epoch 1/50\n"
     ]
    },
    {
     "name": "stderr",
     "output_type": "stream",
     "text": [
      "2024-12-09 23:31:24.888874: W external/local_tsl/tsl/framework/cpu_allocator_impl.cc:83] Allocation of 4730259456 exceeds 10% of free system memory.\n"
     ]
    },
    {
     "ename": "",
     "evalue": "",
     "output_type": "error",
     "traceback": [
      "\u001b[1;31mThe Kernel crashed while executing code in the current cell or a previous cell. \n",
      "\u001b[1;31mPlease review the code in the cell(s) to identify a possible cause of the failure. \n",
      "\u001b[1;31mClick <a href='https://aka.ms/vscodeJupyterKernelCrash'>here</a> for more info. \n",
      "\u001b[1;31mView Jupyter <a href='command:jupyter.viewOutput'>log</a> for further details."
     ]
    }
   ],
   "source": [
    "model = Sequential([\n",
    "    Conv1D(filters=32, kernel_size=3, activation='relu'),\n",
    "    MaxPooling1D(pool_size=2),\n",
    "    Dropout(0.3),\n",
    "    LSTM(64, return_sequences=False),\n",
    "    Dense(64, activation='relu'),\n",
    "    Dropout(0.3),\n",
    "    Dense(1, activation='sigmoid')  # Sigmoid for binary classification\n",
    "])\n",
    "\n",
    "# Define EarlyStopping callback\n",
    "early_stopping = EarlyStopping(\n",
    "    monitor='val_loss',     # Metric to monitor (validation loss in this case)\n",
    "    patience=3,             # Number of epochs with no improvement after which training stops\n",
    "    restore_best_weights=True  # Restores model weights from the epoch with the best validation loss\n",
    ")\n",
    "\n",
    "# Compile the model\n",
    "model.compile(optimizer='adam', loss='binary_crossentropy', metrics=['accuracy'])\n",
    "\n",
    "# Train the model with EarlyStopping\n",
    "history = model.fit(\n",
    "    sequences_ohe_padded, y,\n",
    "    epochs=50,                 # Maximum number of epochs\n",
    "    batch_size=16,\n",
    "    validation_split = 0.2,\n",
    "    callbacks=[early_stopping])  # Add the EarlyStopping callback here"
   ]
  },
  {
   "cell_type": "markdown",
   "metadata": {},
   "source": [
    "The parameters for this CNN were chosen based on our previous trials in model development. We are seeing early stoppage. Let us consider altering the parameters we are using through GridSearch"
   ]
  },
  {
   "cell_type": "code",
   "execution_count": null,
   "metadata": {},
   "outputs": [
    {
     "data": {
      "image/png": "[encoded data removed]",
      "text/plain": [
       "<Figure size 640x480 with 1 Axes>"
      ]
     },
     "metadata": {},
     "output_type": "display_data"
    },
    {
     "name": "stdout",
     "output_type": "stream",
     "text": [
      "\u001b[1m1/1\u001b[0m \u001b[32m━━━━━━━━━━━━━━━━━━━━\u001b[0m\u001b[37m\u001b[0m \u001b[1m0s\u001b[0m 93ms/step\n"
     ]
    },
    {
     "data": {
      "image/png": "[encoded data removed]",
      "text/plain": [
       "<Figure size 600x600 with 2 Axes>"
      ]
     },
     "metadata": {},
     "output_type": "display_data"
    },
    {
     "name": "stdout",
     "output_type": "stream",
     "text": [
      "                precision    recall  f1-score   support\n",
      "\n",
      "Not Associated       0.73      0.57      0.64        14\n",
      "    Associated       0.68      0.81      0.74        16\n",
      "\n",
      "      accuracy                           0.70        30\n",
      "     macro avg       0.71      0.69      0.69        30\n",
      "  weighted avg       0.70      0.70      0.69        30\n",
      "\n",
      "Test Accuracy: 0.7\n"
     ]
    }
   ],
   "source": [
    "# Plot training history\n",
    "plt.plot(history.history['accuracy'], label='Train Accuracy')\n",
    "plt.plot(history.history['val_accuracy'], label='Validation Accuracy')\n",
    "plt.title(\"Training History: OHE CNN/LSTM\")\n",
    "plt.xlabel('Epochs')\n",
    "plt.ylabel('Accuracy')\n",
    "plt.legend()\n",
    "plt.show()"
   ]
  },
  {
   "cell_type": "code",
   "execution_count": null,
   "metadata": {},
   "outputs": [],
   "source": [
    "# this model has no test set, so disregard this cell\n",
    "\n",
    "y_pred = model.predict(X_test)\n",
    "y_pred_binary = (y_pred >= 0.5).astype(int)\n",
    "\n",
    "cm = confusion_matrix(Y_test, y_pred_binary)\n",
    "# Plot confusion matrix\n",
    "plt.figure(figsize=(6, 6))\n",
    "sns.heatmap(cm, annot=True, fmt='d', cmap='Blues', xticklabels=[\"Not Associated\", \"Associated\"], yticklabels=[\"Not Associated\", \"Associated\"])\n",
    "plt.title(\"Confusion Matrix: OHE CNN/LSTM\")\n",
    "plt.xlabel(\"Predicted\")\n",
    "plt.ylabel(\"Actual\")\n",
    "plt.show()\n",
    "\n",
    "# Classification report\n",
    "print(classification_report(Y_test, y_pred_binary, target_names=[\"Not Associated\", \"Associated\"]))\n",
    "\n",
    "print(\"Test Accuracy:\", accuracy_score(Y_test, y_pred_binary))"
   ]
  }
 ],
 "metadata": {
  "kernelspec": {
   "display_name": "data_project",
   "language": "python",
   "name": "python3"
  },
  "language_info": {
   "codemirror_mode": {
    "name": "ipython",
    "version": 3
   },
   "file_extension": ".py",
   "mimetype": "text/x-python",
   "name": "python",
   "nbconvert_exporter": "python",
   "pygments_lexer": "ipython3",
   "version": "3.10.13"
  }
 },
 "nbformat": 4,
 "nbformat_minor": 2
}
